{
 "cells": [
  {
   "cell_type": "code",
   "execution_count": 1,
   "id": "a603019a",
   "metadata": {},
   "outputs": [],
   "source": [
    "#Importing Libraries\n",
    "import pandas as pd\n",
    "import xlrd\n",
    "import matplotlib.pyplot as plt\n",
    "import seaborn as sns"
   ]
  },
  {
   "cell_type": "code",
   "execution_count": 2,
   "id": "ca743379",
   "metadata": {},
   "outputs": [],
   "source": [
    "\n",
    "#Assigning Colors for companies\n",
    "palette = ['#ff1493', '#ffd700']"
   ]
  },
  {
   "cell_type": "code",
   "execution_count": 3,
   "id": "052c5c7f",
   "metadata": {},
   "outputs": [],
   "source": [
    "#Loading Data\n",
    "cab_data = pd.read_csv('Cab_Data.csv')\n",
    "customer_data = pd.read_csv('Customer_ID.csv')\n",
    "City_data = pd.read_csv('City.csv')\n",
    "Transaction_data = pd.read_csv('Transaction_ID.csv')"
   ]
  },
  {
   "cell_type": "code",
   "execution_count": 102,
   "id": "3f6048f1",
   "metadata": {},
   "outputs": [
    {
     "data": {
      "text/plain": [
       "(359392, 7)"
      ]
     },
     "execution_count": 102,
     "metadata": {},
     "output_type": "execute_result"
    }
   ],
   "source": [
    "cab_data.head()"
   ]
  },
  {
   "cell_type": "code",
   "execution_count": 5,
   "id": "fbab9b13",
   "metadata": {},
   "outputs": [
    {
     "data": {
      "text/html": [
       "<div>\n",
       "<style scoped>\n",
       "    .dataframe tbody tr th:only-of-type {\n",
       "        vertical-align: middle;\n",
       "    }\n",
       "\n",
       "    .dataframe tbody tr th {\n",
       "        vertical-align: top;\n",
       "    }\n",
       "\n",
       "    .dataframe thead th {\n",
       "        text-align: right;\n",
       "    }\n",
       "</style>\n",
       "<table border=\"1\" class=\"dataframe\">\n",
       "  <thead>\n",
       "    <tr style=\"text-align: right;\">\n",
       "      <th></th>\n",
       "      <th>Transaction ID</th>\n",
       "      <th>Date of Travel</th>\n",
       "      <th>Company</th>\n",
       "      <th>City</th>\n",
       "      <th>KM Travelled</th>\n",
       "      <th>Price Charged</th>\n",
       "      <th>Cost of Trip</th>\n",
       "    </tr>\n",
       "  </thead>\n",
       "  <tbody>\n",
       "    <tr>\n",
       "      <th>0</th>\n",
       "      <td>10000011</td>\n",
       "      <td>2016-01-08</td>\n",
       "      <td>Pink Cab</td>\n",
       "      <td>ATLANTA GA</td>\n",
       "      <td>30.45</td>\n",
       "      <td>370.95</td>\n",
       "      <td>313.635</td>\n",
       "    </tr>\n",
       "    <tr>\n",
       "      <th>1</th>\n",
       "      <td>10000012</td>\n",
       "      <td>2016-01-06</td>\n",
       "      <td>Pink Cab</td>\n",
       "      <td>ATLANTA GA</td>\n",
       "      <td>28.62</td>\n",
       "      <td>358.52</td>\n",
       "      <td>334.854</td>\n",
       "    </tr>\n",
       "    <tr>\n",
       "      <th>2</th>\n",
       "      <td>10000013</td>\n",
       "      <td>2016-01-02</td>\n",
       "      <td>Pink Cab</td>\n",
       "      <td>ATLANTA GA</td>\n",
       "      <td>9.04</td>\n",
       "      <td>125.20</td>\n",
       "      <td>97.632</td>\n",
       "    </tr>\n",
       "    <tr>\n",
       "      <th>3</th>\n",
       "      <td>10000014</td>\n",
       "      <td>2016-01-07</td>\n",
       "      <td>Pink Cab</td>\n",
       "      <td>ATLANTA GA</td>\n",
       "      <td>33.17</td>\n",
       "      <td>377.40</td>\n",
       "      <td>351.602</td>\n",
       "    </tr>\n",
       "    <tr>\n",
       "      <th>4</th>\n",
       "      <td>10000015</td>\n",
       "      <td>2016-01-03</td>\n",
       "      <td>Pink Cab</td>\n",
       "      <td>ATLANTA GA</td>\n",
       "      <td>8.73</td>\n",
       "      <td>114.62</td>\n",
       "      <td>97.776</td>\n",
       "    </tr>\n",
       "  </tbody>\n",
       "</table>\n",
       "</div>"
      ],
      "text/plain": [
       "   Transaction ID Date of Travel   Company        City  KM Travelled  \\\n",
       "0        10000011     2016-01-08  Pink Cab  ATLANTA GA         30.45   \n",
       "1        10000012     2016-01-06  Pink Cab  ATLANTA GA         28.62   \n",
       "2        10000013     2016-01-02  Pink Cab  ATLANTA GA          9.04   \n",
       "3        10000014     2016-01-07  Pink Cab  ATLANTA GA         33.17   \n",
       "4        10000015     2016-01-03  Pink Cab  ATLANTA GA          8.73   \n",
       "\n",
       "   Price Charged  Cost of Trip  \n",
       "0         370.95       313.635  \n",
       "1         358.52       334.854  \n",
       "2         125.20        97.632  \n",
       "3         377.40       351.602  \n",
       "4         114.62        97.776  "
      ]
     },
     "execution_count": 5,
     "metadata": {},
     "output_type": "execute_result"
    }
   ],
   "source": [
    "#converting excel serial date to datetime\n",
    "cab_data['Date of Travel'] = cab_data['Date of Travel'].apply(lambda x: xlrd.xldate_as_datetime(x,0))\n",
    "# cab_data.apply(xlrd.xldate_as_datetime('Date of Travel', 0)) \n",
    "cab_data.head()"
   ]
  },
  {
   "cell_type": "code",
   "execution_count": 6,
   "id": "4272df4b",
   "metadata": {},
   "outputs": [
    {
     "data": {
      "text/html": [
       "<div>\n",
       "<style scoped>\n",
       "    .dataframe tbody tr th:only-of-type {\n",
       "        vertical-align: middle;\n",
       "    }\n",
       "\n",
       "    .dataframe tbody tr th {\n",
       "        vertical-align: top;\n",
       "    }\n",
       "\n",
       "    .dataframe thead th {\n",
       "        text-align: right;\n",
       "    }\n",
       "</style>\n",
       "<table border=\"1\" class=\"dataframe\">\n",
       "  <thead>\n",
       "    <tr style=\"text-align: right;\">\n",
       "      <th></th>\n",
       "      <th>Customer ID</th>\n",
       "      <th>Gender</th>\n",
       "      <th>Age</th>\n",
       "      <th>Income (USD/Month)</th>\n",
       "    </tr>\n",
       "  </thead>\n",
       "  <tbody>\n",
       "    <tr>\n",
       "      <th>0</th>\n",
       "      <td>29290</td>\n",
       "      <td>Male</td>\n",
       "      <td>28</td>\n",
       "      <td>10813</td>\n",
       "    </tr>\n",
       "    <tr>\n",
       "      <th>1</th>\n",
       "      <td>27703</td>\n",
       "      <td>Male</td>\n",
       "      <td>27</td>\n",
       "      <td>9237</td>\n",
       "    </tr>\n",
       "    <tr>\n",
       "      <th>2</th>\n",
       "      <td>28712</td>\n",
       "      <td>Male</td>\n",
       "      <td>53</td>\n",
       "      <td>11242</td>\n",
       "    </tr>\n",
       "    <tr>\n",
       "      <th>3</th>\n",
       "      <td>28020</td>\n",
       "      <td>Male</td>\n",
       "      <td>23</td>\n",
       "      <td>23327</td>\n",
       "    </tr>\n",
       "    <tr>\n",
       "      <th>4</th>\n",
       "      <td>27182</td>\n",
       "      <td>Male</td>\n",
       "      <td>33</td>\n",
       "      <td>8536</td>\n",
       "    </tr>\n",
       "  </tbody>\n",
       "</table>\n",
       "</div>"
      ],
      "text/plain": [
       "   Customer ID Gender  Age  Income (USD/Month)\n",
       "0        29290   Male   28               10813\n",
       "1        27703   Male   27                9237\n",
       "2        28712   Male   53               11242\n",
       "3        28020   Male   23               23327\n",
       "4        27182   Male   33                8536"
      ]
     },
     "execution_count": 6,
     "metadata": {},
     "output_type": "execute_result"
    }
   ],
   "source": [
    "customer_data.head()"
   ]
  },
  {
   "cell_type": "code",
   "execution_count": 7,
   "id": "98f96299",
   "metadata": {},
   "outputs": [
    {
     "data": {
      "text/plain": [
       "(359392, 7)"
      ]
     },
     "execution_count": 7,
     "metadata": {},
     "output_type": "execute_result"
    }
   ],
   "source": [
    "cab_data.shape"
   ]
  },
  {
   "cell_type": "code",
   "execution_count": 103,
   "id": "531843f3",
   "metadata": {},
   "outputs": [
    {
     "data": {
      "text/plain": [
       "(49171, 4)"
      ]
     },
     "execution_count": 103,
     "metadata": {},
     "output_type": "execute_result"
    }
   ],
   "source": [
    "customer_data.head()\n",
    "customer_data.shape"
   ]
  },
  {
   "cell_type": "code",
   "execution_count": 9,
   "id": "4febf9b5",
   "metadata": {},
   "outputs": [
    {
     "data": {
      "text/html": [
       "<div>\n",
       "<style scoped>\n",
       "    .dataframe tbody tr th:only-of-type {\n",
       "        vertical-align: middle;\n",
       "    }\n",
       "\n",
       "    .dataframe tbody tr th {\n",
       "        vertical-align: top;\n",
       "    }\n",
       "\n",
       "    .dataframe thead th {\n",
       "        text-align: right;\n",
       "    }\n",
       "</style>\n",
       "<table border=\"1\" class=\"dataframe\">\n",
       "  <thead>\n",
       "    <tr style=\"text-align: right;\">\n",
       "      <th></th>\n",
       "      <th>City</th>\n",
       "      <th>Population</th>\n",
       "      <th>Users</th>\n",
       "    </tr>\n",
       "  </thead>\n",
       "  <tbody>\n",
       "    <tr>\n",
       "      <th>0</th>\n",
       "      <td>NEW YORK NY</td>\n",
       "      <td>8,405,837</td>\n",
       "      <td>302,149</td>\n",
       "    </tr>\n",
       "    <tr>\n",
       "      <th>1</th>\n",
       "      <td>CHICAGO IL</td>\n",
       "      <td>1,955,130</td>\n",
       "      <td>164,468</td>\n",
       "    </tr>\n",
       "    <tr>\n",
       "      <th>2</th>\n",
       "      <td>LOS ANGELES CA</td>\n",
       "      <td>1,595,037</td>\n",
       "      <td>144,132</td>\n",
       "    </tr>\n",
       "    <tr>\n",
       "      <th>3</th>\n",
       "      <td>MIAMI FL</td>\n",
       "      <td>1,339,155</td>\n",
       "      <td>17,675</td>\n",
       "    </tr>\n",
       "    <tr>\n",
       "      <th>4</th>\n",
       "      <td>SILICON VALLEY</td>\n",
       "      <td>1,177,609</td>\n",
       "      <td>27,247</td>\n",
       "    </tr>\n",
       "    <tr>\n",
       "      <th>5</th>\n",
       "      <td>ORANGE COUNTY</td>\n",
       "      <td>1,030,185</td>\n",
       "      <td>12,994</td>\n",
       "    </tr>\n",
       "    <tr>\n",
       "      <th>6</th>\n",
       "      <td>SAN DIEGO CA</td>\n",
       "      <td>959,307</td>\n",
       "      <td>69,995</td>\n",
       "    </tr>\n",
       "    <tr>\n",
       "      <th>7</th>\n",
       "      <td>PHOENIX AZ</td>\n",
       "      <td>943,999</td>\n",
       "      <td>6,133</td>\n",
       "    </tr>\n",
       "    <tr>\n",
       "      <th>8</th>\n",
       "      <td>DALLAS TX</td>\n",
       "      <td>942,908</td>\n",
       "      <td>22,157</td>\n",
       "    </tr>\n",
       "    <tr>\n",
       "      <th>9</th>\n",
       "      <td>ATLANTA GA</td>\n",
       "      <td>814,885</td>\n",
       "      <td>24,701</td>\n",
       "    </tr>\n",
       "    <tr>\n",
       "      <th>10</th>\n",
       "      <td>DENVER CO</td>\n",
       "      <td>754,233</td>\n",
       "      <td>12,421</td>\n",
       "    </tr>\n",
       "    <tr>\n",
       "      <th>11</th>\n",
       "      <td>AUSTIN TX</td>\n",
       "      <td>698,371</td>\n",
       "      <td>14,978</td>\n",
       "    </tr>\n",
       "    <tr>\n",
       "      <th>12</th>\n",
       "      <td>SEATTLE WA</td>\n",
       "      <td>671,238</td>\n",
       "      <td>25,063</td>\n",
       "    </tr>\n",
       "    <tr>\n",
       "      <th>13</th>\n",
       "      <td>TUCSON AZ</td>\n",
       "      <td>631,442</td>\n",
       "      <td>5,712</td>\n",
       "    </tr>\n",
       "    <tr>\n",
       "      <th>14</th>\n",
       "      <td>SAN FRANCISCO CA</td>\n",
       "      <td>629,591</td>\n",
       "      <td>213,609</td>\n",
       "    </tr>\n",
       "    <tr>\n",
       "      <th>15</th>\n",
       "      <td>SACRAMENTO CA</td>\n",
       "      <td>545,776</td>\n",
       "      <td>7,044</td>\n",
       "    </tr>\n",
       "    <tr>\n",
       "      <th>16</th>\n",
       "      <td>PITTSBURGH PA</td>\n",
       "      <td>542,085</td>\n",
       "      <td>3,643</td>\n",
       "    </tr>\n",
       "    <tr>\n",
       "      <th>17</th>\n",
       "      <td>WASHINGTON DC</td>\n",
       "      <td>418,859</td>\n",
       "      <td>127,001</td>\n",
       "    </tr>\n",
       "    <tr>\n",
       "      <th>18</th>\n",
       "      <td>NASHVILLE TN</td>\n",
       "      <td>327,225</td>\n",
       "      <td>9,270</td>\n",
       "    </tr>\n",
       "    <tr>\n",
       "      <th>19</th>\n",
       "      <td>BOSTON MA</td>\n",
       "      <td>248,968</td>\n",
       "      <td>80,021</td>\n",
       "    </tr>\n",
       "  </tbody>\n",
       "</table>\n",
       "</div>"
      ],
      "text/plain": [
       "                City   Population      Users\n",
       "0        NEW YORK NY   8,405,837    302,149 \n",
       "1         CHICAGO IL   1,955,130    164,468 \n",
       "2     LOS ANGELES CA   1,595,037    144,132 \n",
       "3           MIAMI FL   1,339,155     17,675 \n",
       "4     SILICON VALLEY   1,177,609     27,247 \n",
       "5      ORANGE COUNTY   1,030,185     12,994 \n",
       "6       SAN DIEGO CA     959,307     69,995 \n",
       "7         PHOENIX AZ     943,999      6,133 \n",
       "8          DALLAS TX     942,908     22,157 \n",
       "9         ATLANTA GA     814,885     24,701 \n",
       "10         DENVER CO     754,233     12,421 \n",
       "11         AUSTIN TX     698,371     14,978 \n",
       "12        SEATTLE WA     671,238     25,063 \n",
       "13         TUCSON AZ     631,442      5,712 \n",
       "14  SAN FRANCISCO CA     629,591    213,609 \n",
       "15     SACRAMENTO CA     545,776      7,044 \n",
       "16     PITTSBURGH PA     542,085      3,643 \n",
       "17     WASHINGTON DC     418,859    127,001 \n",
       "18      NASHVILLE TN     327,225      9,270 \n",
       "19         BOSTON MA     248,968     80,021 "
      ]
     },
     "execution_count": 9,
     "metadata": {},
     "output_type": "execute_result"
    }
   ],
   "source": [
    "City_data"
   ]
  },
  {
   "cell_type": "code",
   "execution_count": 10,
   "id": "211f1712",
   "metadata": {},
   "outputs": [
    {
     "name": "stdout",
     "output_type": "stream",
     "text": [
      "(20, 3)\n"
     ]
    }
   ],
   "source": [
    "print(City_data.shape)"
   ]
  },
  {
   "cell_type": "code",
   "execution_count": 11,
   "id": "8eb9cbac",
   "metadata": {},
   "outputs": [
    {
     "data": {
      "text/html": [
       "<div>\n",
       "<style scoped>\n",
       "    .dataframe tbody tr th:only-of-type {\n",
       "        vertical-align: middle;\n",
       "    }\n",
       "\n",
       "    .dataframe tbody tr th {\n",
       "        vertical-align: top;\n",
       "    }\n",
       "\n",
       "    .dataframe thead th {\n",
       "        text-align: right;\n",
       "    }\n",
       "</style>\n",
       "<table border=\"1\" class=\"dataframe\">\n",
       "  <thead>\n",
       "    <tr style=\"text-align: right;\">\n",
       "      <th></th>\n",
       "      <th>Transaction ID</th>\n",
       "      <th>Customer ID</th>\n",
       "      <th>Payment_Mode</th>\n",
       "    </tr>\n",
       "  </thead>\n",
       "  <tbody>\n",
       "    <tr>\n",
       "      <th>0</th>\n",
       "      <td>10000011</td>\n",
       "      <td>29290</td>\n",
       "      <td>Card</td>\n",
       "    </tr>\n",
       "    <tr>\n",
       "      <th>1</th>\n",
       "      <td>10000012</td>\n",
       "      <td>27703</td>\n",
       "      <td>Card</td>\n",
       "    </tr>\n",
       "    <tr>\n",
       "      <th>2</th>\n",
       "      <td>10000013</td>\n",
       "      <td>28712</td>\n",
       "      <td>Cash</td>\n",
       "    </tr>\n",
       "    <tr>\n",
       "      <th>3</th>\n",
       "      <td>10000014</td>\n",
       "      <td>28020</td>\n",
       "      <td>Cash</td>\n",
       "    </tr>\n",
       "    <tr>\n",
       "      <th>4</th>\n",
       "      <td>10000015</td>\n",
       "      <td>27182</td>\n",
       "      <td>Card</td>\n",
       "    </tr>\n",
       "  </tbody>\n",
       "</table>\n",
       "</div>"
      ],
      "text/plain": [
       "   Transaction ID  Customer ID Payment_Mode\n",
       "0        10000011        29290         Card\n",
       "1        10000012        27703         Card\n",
       "2        10000013        28712         Cash\n",
       "3        10000014        28020         Cash\n",
       "4        10000015        27182         Card"
      ]
     },
     "execution_count": 11,
     "metadata": {},
     "output_type": "execute_result"
    }
   ],
   "source": [
    "Transaction_data.head()"
   ]
  },
  {
   "cell_type": "code",
   "execution_count": 105,
   "id": "ffe7a054",
   "metadata": {},
   "outputs": [
    {
     "data": {
      "text/plain": [
       "(440098, 3)"
      ]
     },
     "execution_count": 105,
     "metadata": {},
     "output_type": "execute_result"
    }
   ],
   "source": [
    "Transaction_data.shape"
   ]
  },
  {
   "cell_type": "code",
   "execution_count": 12,
   "id": "181de3f0",
   "metadata": {},
   "outputs": [
    {
     "data": {
      "text/html": [
       "<div>\n",
       "<style scoped>\n",
       "    .dataframe tbody tr th:only-of-type {\n",
       "        vertical-align: middle;\n",
       "    }\n",
       "\n",
       "    .dataframe tbody tr th {\n",
       "        vertical-align: top;\n",
       "    }\n",
       "\n",
       "    .dataframe thead th {\n",
       "        text-align: right;\n",
       "    }\n",
       "</style>\n",
       "<table border=\"1\" class=\"dataframe\">\n",
       "  <thead>\n",
       "    <tr style=\"text-align: right;\">\n",
       "      <th></th>\n",
       "      <th>Transaction ID</th>\n",
       "      <th>KM Travelled</th>\n",
       "      <th>Price Charged</th>\n",
       "      <th>Cost of Trip</th>\n",
       "    </tr>\n",
       "  </thead>\n",
       "  <tbody>\n",
       "    <tr>\n",
       "      <th>count</th>\n",
       "      <td>3.593920e+05</td>\n",
       "      <td>359392.000000</td>\n",
       "      <td>359392.000000</td>\n",
       "      <td>359392.000000</td>\n",
       "    </tr>\n",
       "    <tr>\n",
       "      <th>mean</th>\n",
       "      <td>1.022076e+07</td>\n",
       "      <td>22.567254</td>\n",
       "      <td>423.443311</td>\n",
       "      <td>286.190113</td>\n",
       "    </tr>\n",
       "    <tr>\n",
       "      <th>std</th>\n",
       "      <td>1.268058e+05</td>\n",
       "      <td>12.233526</td>\n",
       "      <td>274.378911</td>\n",
       "      <td>157.993661</td>\n",
       "    </tr>\n",
       "    <tr>\n",
       "      <th>min</th>\n",
       "      <td>1.000001e+07</td>\n",
       "      <td>1.900000</td>\n",
       "      <td>15.600000</td>\n",
       "      <td>19.000000</td>\n",
       "    </tr>\n",
       "    <tr>\n",
       "      <th>25%</th>\n",
       "      <td>1.011081e+07</td>\n",
       "      <td>12.000000</td>\n",
       "      <td>206.437500</td>\n",
       "      <td>151.200000</td>\n",
       "    </tr>\n",
       "    <tr>\n",
       "      <th>50%</th>\n",
       "      <td>1.022104e+07</td>\n",
       "      <td>22.440000</td>\n",
       "      <td>386.360000</td>\n",
       "      <td>282.480000</td>\n",
       "    </tr>\n",
       "    <tr>\n",
       "      <th>75%</th>\n",
       "      <td>1.033094e+07</td>\n",
       "      <td>32.960000</td>\n",
       "      <td>583.660000</td>\n",
       "      <td>413.683200</td>\n",
       "    </tr>\n",
       "    <tr>\n",
       "      <th>max</th>\n",
       "      <td>1.044011e+07</td>\n",
       "      <td>48.000000</td>\n",
       "      <td>2048.030000</td>\n",
       "      <td>691.200000</td>\n",
       "    </tr>\n",
       "  </tbody>\n",
       "</table>\n",
       "</div>"
      ],
      "text/plain": [
       "       Transaction ID   KM Travelled  Price Charged   Cost of Trip\n",
       "count    3.593920e+05  359392.000000  359392.000000  359392.000000\n",
       "mean     1.022076e+07      22.567254     423.443311     286.190113\n",
       "std      1.268058e+05      12.233526     274.378911     157.993661\n",
       "min      1.000001e+07       1.900000      15.600000      19.000000\n",
       "25%      1.011081e+07      12.000000     206.437500     151.200000\n",
       "50%      1.022104e+07      22.440000     386.360000     282.480000\n",
       "75%      1.033094e+07      32.960000     583.660000     413.683200\n",
       "max      1.044011e+07      48.000000    2048.030000     691.200000"
      ]
     },
     "execution_count": 12,
     "metadata": {},
     "output_type": "execute_result"
    }
   ],
   "source": [
    "cab_data.describe()"
   ]
  },
  {
   "cell_type": "code",
   "execution_count": 13,
   "id": "f387e161",
   "metadata": {},
   "outputs": [
    {
     "data": {
      "text/plain": [
       "20"
      ]
     },
     "execution_count": 13,
     "metadata": {},
     "output_type": "execute_result"
    }
   ],
   "source": [
    "len(City_data['City'].unique())"
   ]
  },
  {
   "cell_type": "code",
   "execution_count": 14,
   "id": "ded7b905",
   "metadata": {},
   "outputs": [
    {
     "data": {
      "text/plain": [
       "19"
      ]
     },
     "execution_count": 14,
     "metadata": {},
     "output_type": "execute_result"
    }
   ],
   "source": [
    "len(cab_data['City'].unique())"
   ]
  },
  {
   "cell_type": "code",
   "execution_count": 15,
   "id": "24bd6dd2",
   "metadata": {},
   "outputs": [],
   "source": [
    "#Merging customer_data with transaction_data\n",
    "df = cab_data.merge(Transaction_data, on = 'Transaction ID').merge(customer_data, on = 'Customer ID')"
   ]
  },
  {
   "cell_type": "code",
   "execution_count": 16,
   "id": "330e26df",
   "metadata": {},
   "outputs": [
    {
     "data": {
      "text/html": [
       "<div>\n",
       "<style scoped>\n",
       "    .dataframe tbody tr th:only-of-type {\n",
       "        vertical-align: middle;\n",
       "    }\n",
       "\n",
       "    .dataframe tbody tr th {\n",
       "        vertical-align: top;\n",
       "    }\n",
       "\n",
       "    .dataframe thead th {\n",
       "        text-align: right;\n",
       "    }\n",
       "</style>\n",
       "<table border=\"1\" class=\"dataframe\">\n",
       "  <thead>\n",
       "    <tr style=\"text-align: right;\">\n",
       "      <th></th>\n",
       "      <th>Transaction ID</th>\n",
       "      <th>Date of Travel</th>\n",
       "      <th>Company</th>\n",
       "      <th>City</th>\n",
       "      <th>KM Travelled</th>\n",
       "      <th>Price Charged</th>\n",
       "      <th>Cost of Trip</th>\n",
       "      <th>Customer ID</th>\n",
       "      <th>Payment_Mode</th>\n",
       "      <th>Gender</th>\n",
       "      <th>Age</th>\n",
       "      <th>Income (USD/Month)</th>\n",
       "    </tr>\n",
       "  </thead>\n",
       "  <tbody>\n",
       "    <tr>\n",
       "      <th>0</th>\n",
       "      <td>10000011</td>\n",
       "      <td>2016-01-08</td>\n",
       "      <td>Pink Cab</td>\n",
       "      <td>ATLANTA GA</td>\n",
       "      <td>30.45</td>\n",
       "      <td>370.95</td>\n",
       "      <td>313.6350</td>\n",
       "      <td>29290</td>\n",
       "      <td>Card</td>\n",
       "      <td>Male</td>\n",
       "      <td>28</td>\n",
       "      <td>10813</td>\n",
       "    </tr>\n",
       "    <tr>\n",
       "      <th>1</th>\n",
       "      <td>10351127</td>\n",
       "      <td>2018-07-21</td>\n",
       "      <td>Yellow Cab</td>\n",
       "      <td>ATLANTA GA</td>\n",
       "      <td>26.19</td>\n",
       "      <td>598.70</td>\n",
       "      <td>317.4228</td>\n",
       "      <td>29290</td>\n",
       "      <td>Cash</td>\n",
       "      <td>Male</td>\n",
       "      <td>28</td>\n",
       "      <td>10813</td>\n",
       "    </tr>\n",
       "    <tr>\n",
       "      <th>2</th>\n",
       "      <td>10412921</td>\n",
       "      <td>2018-11-23</td>\n",
       "      <td>Yellow Cab</td>\n",
       "      <td>ATLANTA GA</td>\n",
       "      <td>42.55</td>\n",
       "      <td>792.05</td>\n",
       "      <td>597.4020</td>\n",
       "      <td>29290</td>\n",
       "      <td>Card</td>\n",
       "      <td>Male</td>\n",
       "      <td>28</td>\n",
       "      <td>10813</td>\n",
       "    </tr>\n",
       "    <tr>\n",
       "      <th>3</th>\n",
       "      <td>10000012</td>\n",
       "      <td>2016-01-06</td>\n",
       "      <td>Pink Cab</td>\n",
       "      <td>ATLANTA GA</td>\n",
       "      <td>28.62</td>\n",
       "      <td>358.52</td>\n",
       "      <td>334.8540</td>\n",
       "      <td>27703</td>\n",
       "      <td>Card</td>\n",
       "      <td>Male</td>\n",
       "      <td>27</td>\n",
       "      <td>9237</td>\n",
       "    </tr>\n",
       "    <tr>\n",
       "      <th>4</th>\n",
       "      <td>10320494</td>\n",
       "      <td>2018-04-21</td>\n",
       "      <td>Yellow Cab</td>\n",
       "      <td>ATLANTA GA</td>\n",
       "      <td>36.38</td>\n",
       "      <td>721.10</td>\n",
       "      <td>467.1192</td>\n",
       "      <td>27703</td>\n",
       "      <td>Card</td>\n",
       "      <td>Male</td>\n",
       "      <td>27</td>\n",
       "      <td>9237</td>\n",
       "    </tr>\n",
       "  </tbody>\n",
       "</table>\n",
       "</div>"
      ],
      "text/plain": [
       "   Transaction ID Date of Travel     Company        City  KM Travelled  \\\n",
       "0        10000011     2016-01-08    Pink Cab  ATLANTA GA         30.45   \n",
       "1        10351127     2018-07-21  Yellow Cab  ATLANTA GA         26.19   \n",
       "2        10412921     2018-11-23  Yellow Cab  ATLANTA GA         42.55   \n",
       "3        10000012     2016-01-06    Pink Cab  ATLANTA GA         28.62   \n",
       "4        10320494     2018-04-21  Yellow Cab  ATLANTA GA         36.38   \n",
       "\n",
       "   Price Charged  Cost of Trip  Customer ID Payment_Mode Gender  Age  \\\n",
       "0         370.95      313.6350        29290         Card   Male   28   \n",
       "1         598.70      317.4228        29290         Cash   Male   28   \n",
       "2         792.05      597.4020        29290         Card   Male   28   \n",
       "3         358.52      334.8540        27703         Card   Male   27   \n",
       "4         721.10      467.1192        27703         Card   Male   27   \n",
       "\n",
       "   Income (USD/Month)  \n",
       "0               10813  \n",
       "1               10813  \n",
       "2               10813  \n",
       "3                9237  \n",
       "4                9237  "
      ]
     },
     "execution_count": 16,
     "metadata": {},
     "output_type": "execute_result"
    }
   ],
   "source": [
    "df.head()"
   ]
  },
  {
   "cell_type": "code",
   "execution_count": 17,
   "id": "3da75935",
   "metadata": {},
   "outputs": [
    {
     "name": "stdout",
     "output_type": "stream",
     "text": [
      "<class 'pandas.core.frame.DataFrame'>\n",
      "RangeIndex: 359392 entries, 0 to 359391\n",
      "Data columns (total 7 columns):\n",
      " #   Column          Non-Null Count   Dtype         \n",
      "---  ------          --------------   -----         \n",
      " 0   Transaction ID  359392 non-null  int64         \n",
      " 1   Date of Travel  359392 non-null  datetime64[ns]\n",
      " 2   Company         359392 non-null  object        \n",
      " 3   City            359392 non-null  object        \n",
      " 4   KM Travelled    359392 non-null  float64       \n",
      " 5   Price Charged   359392 non-null  float64       \n",
      " 6   Cost of Trip    359392 non-null  float64       \n",
      "dtypes: datetime64[ns](1), float64(3), int64(1), object(2)\n",
      "memory usage: 19.2+ MB\n"
     ]
    }
   ],
   "source": [
    "cab_data.info()"
   ]
  },
  {
   "cell_type": "code",
   "execution_count": 18,
   "id": "a74a90a4",
   "metadata": {},
   "outputs": [
    {
     "name": "stdout",
     "output_type": "stream",
     "text": [
      "<class 'pandas.core.frame.DataFrame'>\n",
      "Int64Index: 359392 entries, 0 to 359391\n",
      "Data columns (total 12 columns):\n",
      " #   Column              Non-Null Count   Dtype         \n",
      "---  ------              --------------   -----         \n",
      " 0   Transaction ID      359392 non-null  int64         \n",
      " 1   Date of Travel      359392 non-null  datetime64[ns]\n",
      " 2   Company             359392 non-null  object        \n",
      " 3   City                359392 non-null  object        \n",
      " 4   KM Travelled        359392 non-null  float64       \n",
      " 5   Price Charged       359392 non-null  float64       \n",
      " 6   Cost of Trip        359392 non-null  float64       \n",
      " 7   Customer ID         359392 non-null  int64         \n",
      " 8   Payment_Mode        359392 non-null  object        \n",
      " 9   Gender              359392 non-null  object        \n",
      " 10  Age                 359392 non-null  int64         \n",
      " 11  Income (USD/Month)  359392 non-null  int64         \n",
      "dtypes: datetime64[ns](1), float64(3), int64(4), object(4)\n",
      "memory usage: 35.6+ MB\n"
     ]
    }
   ],
   "source": [
    "df.info()"
   ]
  },
  {
   "cell_type": "code",
   "execution_count": 19,
   "id": "572f29fd",
   "metadata": {},
   "outputs": [],
   "source": [
    "#making copy\n",
    "new_df = df.copy()"
   ]
  },
  {
   "cell_type": "code",
   "execution_count": 20,
   "id": "56c99955",
   "metadata": {},
   "outputs": [
    {
     "data": {
      "text/html": [
       "<div>\n",
       "<style scoped>\n",
       "    .dataframe tbody tr th:only-of-type {\n",
       "        vertical-align: middle;\n",
       "    }\n",
       "\n",
       "    .dataframe tbody tr th {\n",
       "        vertical-align: top;\n",
       "    }\n",
       "\n",
       "    .dataframe thead th {\n",
       "        text-align: right;\n",
       "    }\n",
       "</style>\n",
       "<table border=\"1\" class=\"dataframe\">\n",
       "  <thead>\n",
       "    <tr style=\"text-align: right;\">\n",
       "      <th></th>\n",
       "      <th>Transaction ID</th>\n",
       "      <th>Date of Travel</th>\n",
       "      <th>Company</th>\n",
       "      <th>City</th>\n",
       "      <th>KM Travelled</th>\n",
       "      <th>Price Charged</th>\n",
       "      <th>Cost of Trip</th>\n",
       "      <th>Customer ID</th>\n",
       "      <th>Payment_Mode</th>\n",
       "      <th>Gender</th>\n",
       "      <th>Age</th>\n",
       "      <th>Income (USD/Month)</th>\n",
       "    </tr>\n",
       "  </thead>\n",
       "  <tbody>\n",
       "    <tr>\n",
       "      <th>0</th>\n",
       "      <td>10000011</td>\n",
       "      <td>2016-01-08</td>\n",
       "      <td>Pink Cab</td>\n",
       "      <td>ATLANTA GA</td>\n",
       "      <td>30.45</td>\n",
       "      <td>370.95</td>\n",
       "      <td>313.6350</td>\n",
       "      <td>29290</td>\n",
       "      <td>Card</td>\n",
       "      <td>Male</td>\n",
       "      <td>28</td>\n",
       "      <td>10813</td>\n",
       "    </tr>\n",
       "    <tr>\n",
       "      <th>1</th>\n",
       "      <td>10351127</td>\n",
       "      <td>2018-07-21</td>\n",
       "      <td>Yellow Cab</td>\n",
       "      <td>ATLANTA GA</td>\n",
       "      <td>26.19</td>\n",
       "      <td>598.70</td>\n",
       "      <td>317.4228</td>\n",
       "      <td>29290</td>\n",
       "      <td>Cash</td>\n",
       "      <td>Male</td>\n",
       "      <td>28</td>\n",
       "      <td>10813</td>\n",
       "    </tr>\n",
       "    <tr>\n",
       "      <th>2</th>\n",
       "      <td>10412921</td>\n",
       "      <td>2018-11-23</td>\n",
       "      <td>Yellow Cab</td>\n",
       "      <td>ATLANTA GA</td>\n",
       "      <td>42.55</td>\n",
       "      <td>792.05</td>\n",
       "      <td>597.4020</td>\n",
       "      <td>29290</td>\n",
       "      <td>Card</td>\n",
       "      <td>Male</td>\n",
       "      <td>28</td>\n",
       "      <td>10813</td>\n",
       "    </tr>\n",
       "    <tr>\n",
       "      <th>3</th>\n",
       "      <td>10000012</td>\n",
       "      <td>2016-01-06</td>\n",
       "      <td>Pink Cab</td>\n",
       "      <td>ATLANTA GA</td>\n",
       "      <td>28.62</td>\n",
       "      <td>358.52</td>\n",
       "      <td>334.8540</td>\n",
       "      <td>27703</td>\n",
       "      <td>Card</td>\n",
       "      <td>Male</td>\n",
       "      <td>27</td>\n",
       "      <td>9237</td>\n",
       "    </tr>\n",
       "    <tr>\n",
       "      <th>4</th>\n",
       "      <td>10320494</td>\n",
       "      <td>2018-04-21</td>\n",
       "      <td>Yellow Cab</td>\n",
       "      <td>ATLANTA GA</td>\n",
       "      <td>36.38</td>\n",
       "      <td>721.10</td>\n",
       "      <td>467.1192</td>\n",
       "      <td>27703</td>\n",
       "      <td>Card</td>\n",
       "      <td>Male</td>\n",
       "      <td>27</td>\n",
       "      <td>9237</td>\n",
       "    </tr>\n",
       "  </tbody>\n",
       "</table>\n",
       "</div>"
      ],
      "text/plain": [
       "   Transaction ID Date of Travel     Company        City  KM Travelled  \\\n",
       "0        10000011     2016-01-08    Pink Cab  ATLANTA GA         30.45   \n",
       "1        10351127     2018-07-21  Yellow Cab  ATLANTA GA         26.19   \n",
       "2        10412921     2018-11-23  Yellow Cab  ATLANTA GA         42.55   \n",
       "3        10000012     2016-01-06    Pink Cab  ATLANTA GA         28.62   \n",
       "4        10320494     2018-04-21  Yellow Cab  ATLANTA GA         36.38   \n",
       "\n",
       "   Price Charged  Cost of Trip  Customer ID Payment_Mode Gender  Age  \\\n",
       "0         370.95      313.6350        29290         Card   Male   28   \n",
       "1         598.70      317.4228        29290         Cash   Male   28   \n",
       "2         792.05      597.4020        29290         Card   Male   28   \n",
       "3         358.52      334.8540        27703         Card   Male   27   \n",
       "4         721.10      467.1192        27703         Card   Male   27   \n",
       "\n",
       "   Income (USD/Month)  \n",
       "0               10813  \n",
       "1               10813  \n",
       "2               10813  \n",
       "3                9237  \n",
       "4                9237  "
      ]
     },
     "execution_count": 20,
     "metadata": {},
     "output_type": "execute_result"
    }
   ],
   "source": [
    "new_df.head()"
   ]
  },
  {
   "cell_type": "code",
   "execution_count": 21,
   "id": "df8b55ea",
   "metadata": {},
   "outputs": [
    {
     "data": {
      "text/plain": [
       "Transaction ID        0\n",
       "Date of Travel        0\n",
       "Company               0\n",
       "City                  0\n",
       "KM Travelled          0\n",
       "Price Charged         0\n",
       "Cost of Trip          0\n",
       "Customer ID           0\n",
       "Payment_Mode          0\n",
       "Gender                0\n",
       "Age                   0\n",
       "Income (USD/Month)    0\n",
       "dtype: int64"
      ]
     },
     "execution_count": 21,
     "metadata": {},
     "output_type": "execute_result"
    }
   ],
   "source": [
    "#checking for null values\n",
    "new_df.isna().sum()"
   ]
  },
  {
   "cell_type": "code",
   "execution_count": 22,
   "id": "62a8743a",
   "metadata": {},
   "outputs": [
    {
     "data": {
      "text/plain": [
       "0"
      ]
     },
     "execution_count": 22,
     "metadata": {},
     "output_type": "execute_result"
    }
   ],
   "source": [
    "#checking for duplicated values\n",
    "new_df.duplicated().sum()"
   ]
  },
  {
   "cell_type": "code",
   "execution_count": 23,
   "id": "e44c3663",
   "metadata": {},
   "outputs": [],
   "source": [
    "#Extracting only city from City column\n",
    "new_df['City'] = new_df['City'].apply(lambda x: x.split(x.split()[-1])[0].title())"
   ]
  },
  {
   "cell_type": "code",
   "execution_count": 24,
   "id": "48818596",
   "metadata": {},
   "outputs": [
    {
     "data": {
      "text/plain": [
       "0         Atlanta \n",
       "1         Atlanta \n",
       "2         Atlanta \n",
       "3         Atlanta \n",
       "4         Atlanta \n",
       "            ...   \n",
       "359387    Seattle \n",
       "359388    Silicon \n",
       "359389     Tucson \n",
       "359390     Tucson \n",
       "359391     Tucson \n",
       "Name: City, Length: 359392, dtype: object"
      ]
     },
     "execution_count": 24,
     "metadata": {},
     "output_type": "execute_result"
    }
   ],
   "source": [
    "new_df['City']"
   ]
  },
  {
   "cell_type": "code",
   "execution_count": 25,
   "id": "390f5c2e",
   "metadata": {},
   "outputs": [
    {
     "name": "stdout",
     "output_type": "stream",
     "text": [
      "<class 'pandas.core.frame.DataFrame'>\n",
      "Int64Index: 359392 entries, 0 to 359391\n",
      "Data columns (total 12 columns):\n",
      " #   Column              Non-Null Count   Dtype         \n",
      "---  ------              --------------   -----         \n",
      " 0   Transaction ID      359392 non-null  int64         \n",
      " 1   Date of Travel      359392 non-null  datetime64[ns]\n",
      " 2   Company             359392 non-null  object        \n",
      " 3   City                359392 non-null  object        \n",
      " 4   KM Travelled        359392 non-null  float64       \n",
      " 5   Price Charged       359392 non-null  float64       \n",
      " 6   Cost of Trip        359392 non-null  float64       \n",
      " 7   Customer ID         359392 non-null  int64         \n",
      " 8   Payment_Mode        359392 non-null  object        \n",
      " 9   Gender              359392 non-null  object        \n",
      " 10  Age                 359392 non-null  int64         \n",
      " 11  Income (USD/Month)  359392 non-null  int64         \n",
      "dtypes: datetime64[ns](1), float64(3), int64(4), object(4)\n",
      "memory usage: 35.6+ MB\n"
     ]
    }
   ],
   "source": [
    "new_df.info()"
   ]
  },
  {
   "cell_type": "code",
   "execution_count": 26,
   "id": "e884ace7",
   "metadata": {},
   "outputs": [
    {
     "data": {
      "text/plain": [
       "19"
      ]
     },
     "execution_count": 26,
     "metadata": {},
     "output_type": "execute_result"
    }
   ],
   "source": [
    "len(new_df['City'].unique())"
   ]
  },
  {
   "cell_type": "code",
   "execution_count": 27,
   "id": "1e89501d",
   "metadata": {},
   "outputs": [],
   "source": [
    "#Converting Population and Users  columns to numeric\n",
    "City_data['Population'] = City_data['Population'].apply(lambda x: x.replace(\",\", \"\")).astype('int64')\n",
    "City_data['Users'] = City_data['Users'].apply(lambda x: x.replace(\",\", \"\")).astype('int64')\n",
    "City_data['City'] = City_data['City'].apply(lambda x: x.split(x.split()[-1])[0].title())"
   ]
  },
  {
   "cell_type": "code",
   "execution_count": 28,
   "id": "5a35267a",
   "metadata": {},
   "outputs": [
    {
     "data": {
      "text/html": [
       "<div>\n",
       "<style scoped>\n",
       "    .dataframe tbody tr th:only-of-type {\n",
       "        vertical-align: middle;\n",
       "    }\n",
       "\n",
       "    .dataframe tbody tr th {\n",
       "        vertical-align: top;\n",
       "    }\n",
       "\n",
       "    .dataframe thead th {\n",
       "        text-align: right;\n",
       "    }\n",
       "</style>\n",
       "<table border=\"1\" class=\"dataframe\">\n",
       "  <thead>\n",
       "    <tr style=\"text-align: right;\">\n",
       "      <th></th>\n",
       "      <th>City</th>\n",
       "      <th>Population</th>\n",
       "      <th>Users</th>\n",
       "    </tr>\n",
       "  </thead>\n",
       "  <tbody>\n",
       "    <tr>\n",
       "      <th>0</th>\n",
       "      <td>New York</td>\n",
       "      <td>8405837</td>\n",
       "      <td>302149</td>\n",
       "    </tr>\n",
       "    <tr>\n",
       "      <th>1</th>\n",
       "      <td>Chicago</td>\n",
       "      <td>1955130</td>\n",
       "      <td>164468</td>\n",
       "    </tr>\n",
       "    <tr>\n",
       "      <th>2</th>\n",
       "      <td>Los Angeles</td>\n",
       "      <td>1595037</td>\n",
       "      <td>144132</td>\n",
       "    </tr>\n",
       "    <tr>\n",
       "      <th>3</th>\n",
       "      <td>Miami</td>\n",
       "      <td>1339155</td>\n",
       "      <td>17675</td>\n",
       "    </tr>\n",
       "    <tr>\n",
       "      <th>4</th>\n",
       "      <td>Silicon</td>\n",
       "      <td>1177609</td>\n",
       "      <td>27247</td>\n",
       "    </tr>\n",
       "  </tbody>\n",
       "</table>\n",
       "</div>"
      ],
      "text/plain": [
       "           City  Population   Users\n",
       "0     New York      8405837  302149\n",
       "1      Chicago      1955130  164468\n",
       "2  Los Angeles      1595037  144132\n",
       "3        Miami      1339155   17675\n",
       "4      Silicon      1177609   27247"
      ]
     },
     "execution_count": 28,
     "metadata": {},
     "output_type": "execute_result"
    }
   ],
   "source": [
    "City_data.head()"
   ]
  },
  {
   "cell_type": "code",
   "execution_count": 29,
   "id": "ab59a81c",
   "metadata": {},
   "outputs": [],
   "source": [
    "City_data['Non_User'] = City_data['Population'] - City_data['Users']"
   ]
  },
  {
   "cell_type": "code",
   "execution_count": null,
   "id": "11fc8f59",
   "metadata": {},
   "outputs": [],
   "source": []
  },
  {
   "cell_type": "code",
   "execution_count": 30,
   "id": "9f7762b5",
   "metadata": {},
   "outputs": [
    {
     "data": {
      "text/html": [
       "<div>\n",
       "<style scoped>\n",
       "    .dataframe tbody tr th:only-of-type {\n",
       "        vertical-align: middle;\n",
       "    }\n",
       "\n",
       "    .dataframe tbody tr th {\n",
       "        vertical-align: top;\n",
       "    }\n",
       "\n",
       "    .dataframe thead th {\n",
       "        text-align: right;\n",
       "    }\n",
       "</style>\n",
       "<table border=\"1\" class=\"dataframe\">\n",
       "  <thead>\n",
       "    <tr style=\"text-align: right;\">\n",
       "      <th></th>\n",
       "      <th>Transaction ID</th>\n",
       "      <th>Date of Travel</th>\n",
       "      <th>Company</th>\n",
       "      <th>City</th>\n",
       "      <th>KM Travelled</th>\n",
       "      <th>Price Charged</th>\n",
       "      <th>Cost of Trip</th>\n",
       "      <th>Customer ID</th>\n",
       "      <th>Payment_Mode</th>\n",
       "      <th>Gender</th>\n",
       "      <th>Age</th>\n",
       "      <th>Income (USD/Month)</th>\n",
       "    </tr>\n",
       "  </thead>\n",
       "  <tbody>\n",
       "    <tr>\n",
       "      <th>0</th>\n",
       "      <td>10000011</td>\n",
       "      <td>2016-01-08</td>\n",
       "      <td>Pink Cab</td>\n",
       "      <td>Atlanta</td>\n",
       "      <td>30.45</td>\n",
       "      <td>370.95</td>\n",
       "      <td>313.6350</td>\n",
       "      <td>29290</td>\n",
       "      <td>Card</td>\n",
       "      <td>Male</td>\n",
       "      <td>28</td>\n",
       "      <td>10813</td>\n",
       "    </tr>\n",
       "    <tr>\n",
       "      <th>1</th>\n",
       "      <td>10351127</td>\n",
       "      <td>2018-07-21</td>\n",
       "      <td>Yellow Cab</td>\n",
       "      <td>Atlanta</td>\n",
       "      <td>26.19</td>\n",
       "      <td>598.70</td>\n",
       "      <td>317.4228</td>\n",
       "      <td>29290</td>\n",
       "      <td>Cash</td>\n",
       "      <td>Male</td>\n",
       "      <td>28</td>\n",
       "      <td>10813</td>\n",
       "    </tr>\n",
       "    <tr>\n",
       "      <th>2</th>\n",
       "      <td>10412921</td>\n",
       "      <td>2018-11-23</td>\n",
       "      <td>Yellow Cab</td>\n",
       "      <td>Atlanta</td>\n",
       "      <td>42.55</td>\n",
       "      <td>792.05</td>\n",
       "      <td>597.4020</td>\n",
       "      <td>29290</td>\n",
       "      <td>Card</td>\n",
       "      <td>Male</td>\n",
       "      <td>28</td>\n",
       "      <td>10813</td>\n",
       "    </tr>\n",
       "    <tr>\n",
       "      <th>3</th>\n",
       "      <td>10000012</td>\n",
       "      <td>2016-01-06</td>\n",
       "      <td>Pink Cab</td>\n",
       "      <td>Atlanta</td>\n",
       "      <td>28.62</td>\n",
       "      <td>358.52</td>\n",
       "      <td>334.8540</td>\n",
       "      <td>27703</td>\n",
       "      <td>Card</td>\n",
       "      <td>Male</td>\n",
       "      <td>27</td>\n",
       "      <td>9237</td>\n",
       "    </tr>\n",
       "    <tr>\n",
       "      <th>4</th>\n",
       "      <td>10320494</td>\n",
       "      <td>2018-04-21</td>\n",
       "      <td>Yellow Cab</td>\n",
       "      <td>Atlanta</td>\n",
       "      <td>36.38</td>\n",
       "      <td>721.10</td>\n",
       "      <td>467.1192</td>\n",
       "      <td>27703</td>\n",
       "      <td>Card</td>\n",
       "      <td>Male</td>\n",
       "      <td>27</td>\n",
       "      <td>9237</td>\n",
       "    </tr>\n",
       "  </tbody>\n",
       "</table>\n",
       "</div>"
      ],
      "text/plain": [
       "   Transaction ID Date of Travel     Company      City  KM Travelled  \\\n",
       "0        10000011     2016-01-08    Pink Cab  Atlanta          30.45   \n",
       "1        10351127     2018-07-21  Yellow Cab  Atlanta          26.19   \n",
       "2        10412921     2018-11-23  Yellow Cab  Atlanta          42.55   \n",
       "3        10000012     2016-01-06    Pink Cab  Atlanta          28.62   \n",
       "4        10320494     2018-04-21  Yellow Cab  Atlanta          36.38   \n",
       "\n",
       "   Price Charged  Cost of Trip  Customer ID Payment_Mode Gender  Age  \\\n",
       "0         370.95      313.6350        29290         Card   Male   28   \n",
       "1         598.70      317.4228        29290         Cash   Male   28   \n",
       "2         792.05      597.4020        29290         Card   Male   28   \n",
       "3         358.52      334.8540        27703         Card   Male   27   \n",
       "4         721.10      467.1192        27703         Card   Male   27   \n",
       "\n",
       "   Income (USD/Month)  \n",
       "0               10813  \n",
       "1               10813  \n",
       "2               10813  \n",
       "3                9237  \n",
       "4                9237  "
      ]
     },
     "execution_count": 30,
     "metadata": {},
     "output_type": "execute_result"
    }
   ],
   "source": [
    "new_df.head()"
   ]
  },
  {
   "cell_type": "code",
   "execution_count": 31,
   "id": "e07f767a",
   "metadata": {},
   "outputs": [],
   "source": [
    "#Extracting year,Month, days, \n",
    "new_df['Year'] = new_df['Date of Travel'].dt.year\n",
    "new_df['Month'] = new_df['Date of Travel'].dt.month\n",
    "new_df['Day'] = new_df['Date of Travel'].dt.day_name()"
   ]
  },
  {
   "cell_type": "code",
   "execution_count": 32,
   "id": "a008dbc6",
   "metadata": {},
   "outputs": [
    {
     "data": {
      "text/plain": [
       "0            Friday\n",
       "1          Saturday\n",
       "2            Friday\n",
       "3         Wednesday\n",
       "4          Saturday\n",
       "            ...    \n",
       "359387       Sunday\n",
       "359388    Wednesday\n",
       "359389     Thursday\n",
       "359390     Saturday\n",
       "359391     Thursday\n",
       "Name: Day, Length: 359392, dtype: object"
      ]
     },
     "execution_count": 32,
     "metadata": {},
     "output_type": "execute_result"
    }
   ],
   "source": [
    "new_df['Day']"
   ]
  },
  {
   "cell_type": "code",
   "execution_count": 33,
   "id": "632fd3cf",
   "metadata": {},
   "outputs": [],
   "source": [
    "#Extracting price per km, cost per km, profit, profit_ per_km\n",
    "new_df['Price_per_km'] = new_df['Price Charged']/new_df['KM Travelled']# price the cab charge per km\n",
    "new_df['Cost_per_km'] = new_df['Cost of Trip']/new_df['KM Travelled']#Cost of running the car per km\n",
    "new_df['Profit'] = new_df['Price Charged'] - new_df['Cost of Trip']# profit made per trip\n",
    "new_df['Profit_per_km'] = new_df['Price_per_km'] - new_df['Cost_per_km']# profit made per km"
   ]
  },
  {
   "cell_type": "code",
   "execution_count": 34,
   "id": "74525057",
   "metadata": {},
   "outputs": [
    {
     "data": {
      "text/html": [
       "<div>\n",
       "<style scoped>\n",
       "    .dataframe tbody tr th:only-of-type {\n",
       "        vertical-align: middle;\n",
       "    }\n",
       "\n",
       "    .dataframe tbody tr th {\n",
       "        vertical-align: top;\n",
       "    }\n",
       "\n",
       "    .dataframe thead th {\n",
       "        text-align: right;\n",
       "    }\n",
       "</style>\n",
       "<table border=\"1\" class=\"dataframe\">\n",
       "  <thead>\n",
       "    <tr style=\"text-align: right;\">\n",
       "      <th></th>\n",
       "      <th>Transaction ID</th>\n",
       "      <th>Date of Travel</th>\n",
       "      <th>Company</th>\n",
       "      <th>City</th>\n",
       "      <th>KM Travelled</th>\n",
       "      <th>Price Charged</th>\n",
       "      <th>Cost of Trip</th>\n",
       "      <th>Customer ID</th>\n",
       "      <th>Payment_Mode</th>\n",
       "      <th>Gender</th>\n",
       "      <th>Age</th>\n",
       "      <th>Income (USD/Month)</th>\n",
       "      <th>Year</th>\n",
       "      <th>Month</th>\n",
       "      <th>Day</th>\n",
       "      <th>Price_per_km</th>\n",
       "      <th>Cost_per_km</th>\n",
       "      <th>Profit</th>\n",
       "      <th>Profit_per_km</th>\n",
       "    </tr>\n",
       "  </thead>\n",
       "  <tbody>\n",
       "    <tr>\n",
       "      <th>0</th>\n",
       "      <td>10000011</td>\n",
       "      <td>2016-01-08</td>\n",
       "      <td>Pink Cab</td>\n",
       "      <td>Atlanta</td>\n",
       "      <td>30.45</td>\n",
       "      <td>370.95</td>\n",
       "      <td>313.6350</td>\n",
       "      <td>29290</td>\n",
       "      <td>Card</td>\n",
       "      <td>Male</td>\n",
       "      <td>28</td>\n",
       "      <td>10813</td>\n",
       "      <td>2016</td>\n",
       "      <td>1</td>\n",
       "      <td>Friday</td>\n",
       "      <td>12.182266</td>\n",
       "      <td>10.30</td>\n",
       "      <td>57.3150</td>\n",
       "      <td>1.882266</td>\n",
       "    </tr>\n",
       "    <tr>\n",
       "      <th>1</th>\n",
       "      <td>10351127</td>\n",
       "      <td>2018-07-21</td>\n",
       "      <td>Yellow Cab</td>\n",
       "      <td>Atlanta</td>\n",
       "      <td>26.19</td>\n",
       "      <td>598.70</td>\n",
       "      <td>317.4228</td>\n",
       "      <td>29290</td>\n",
       "      <td>Cash</td>\n",
       "      <td>Male</td>\n",
       "      <td>28</td>\n",
       "      <td>10813</td>\n",
       "      <td>2018</td>\n",
       "      <td>7</td>\n",
       "      <td>Saturday</td>\n",
       "      <td>22.859870</td>\n",
       "      <td>12.12</td>\n",
       "      <td>281.2772</td>\n",
       "      <td>10.739870</td>\n",
       "    </tr>\n",
       "    <tr>\n",
       "      <th>2</th>\n",
       "      <td>10412921</td>\n",
       "      <td>2018-11-23</td>\n",
       "      <td>Yellow Cab</td>\n",
       "      <td>Atlanta</td>\n",
       "      <td>42.55</td>\n",
       "      <td>792.05</td>\n",
       "      <td>597.4020</td>\n",
       "      <td>29290</td>\n",
       "      <td>Card</td>\n",
       "      <td>Male</td>\n",
       "      <td>28</td>\n",
       "      <td>10813</td>\n",
       "      <td>2018</td>\n",
       "      <td>11</td>\n",
       "      <td>Friday</td>\n",
       "      <td>18.614571</td>\n",
       "      <td>14.04</td>\n",
       "      <td>194.6480</td>\n",
       "      <td>4.574571</td>\n",
       "    </tr>\n",
       "    <tr>\n",
       "      <th>3</th>\n",
       "      <td>10000012</td>\n",
       "      <td>2016-01-06</td>\n",
       "      <td>Pink Cab</td>\n",
       "      <td>Atlanta</td>\n",
       "      <td>28.62</td>\n",
       "      <td>358.52</td>\n",
       "      <td>334.8540</td>\n",
       "      <td>27703</td>\n",
       "      <td>Card</td>\n",
       "      <td>Male</td>\n",
       "      <td>27</td>\n",
       "      <td>9237</td>\n",
       "      <td>2016</td>\n",
       "      <td>1</td>\n",
       "      <td>Wednesday</td>\n",
       "      <td>12.526904</td>\n",
       "      <td>11.70</td>\n",
       "      <td>23.6660</td>\n",
       "      <td>0.826904</td>\n",
       "    </tr>\n",
       "    <tr>\n",
       "      <th>4</th>\n",
       "      <td>10320494</td>\n",
       "      <td>2018-04-21</td>\n",
       "      <td>Yellow Cab</td>\n",
       "      <td>Atlanta</td>\n",
       "      <td>36.38</td>\n",
       "      <td>721.10</td>\n",
       "      <td>467.1192</td>\n",
       "      <td>27703</td>\n",
       "      <td>Card</td>\n",
       "      <td>Male</td>\n",
       "      <td>27</td>\n",
       "      <td>9237</td>\n",
       "      <td>2018</td>\n",
       "      <td>4</td>\n",
       "      <td>Saturday</td>\n",
       "      <td>19.821330</td>\n",
       "      <td>12.84</td>\n",
       "      <td>253.9808</td>\n",
       "      <td>6.981330</td>\n",
       "    </tr>\n",
       "  </tbody>\n",
       "</table>\n",
       "</div>"
      ],
      "text/plain": [
       "   Transaction ID Date of Travel     Company      City  KM Travelled  \\\n",
       "0        10000011     2016-01-08    Pink Cab  Atlanta          30.45   \n",
       "1        10351127     2018-07-21  Yellow Cab  Atlanta          26.19   \n",
       "2        10412921     2018-11-23  Yellow Cab  Atlanta          42.55   \n",
       "3        10000012     2016-01-06    Pink Cab  Atlanta          28.62   \n",
       "4        10320494     2018-04-21  Yellow Cab  Atlanta          36.38   \n",
       "\n",
       "   Price Charged  Cost of Trip  Customer ID Payment_Mode Gender  Age  \\\n",
       "0         370.95      313.6350        29290         Card   Male   28   \n",
       "1         598.70      317.4228        29290         Cash   Male   28   \n",
       "2         792.05      597.4020        29290         Card   Male   28   \n",
       "3         358.52      334.8540        27703         Card   Male   27   \n",
       "4         721.10      467.1192        27703         Card   Male   27   \n",
       "\n",
       "   Income (USD/Month)  Year  Month        Day  Price_per_km  Cost_per_km  \\\n",
       "0               10813  2016      1     Friday     12.182266        10.30   \n",
       "1               10813  2018      7   Saturday     22.859870        12.12   \n",
       "2               10813  2018     11     Friday     18.614571        14.04   \n",
       "3                9237  2016      1  Wednesday     12.526904        11.70   \n",
       "4                9237  2018      4   Saturday     19.821330        12.84   \n",
       "\n",
       "     Profit  Profit_per_km  \n",
       "0   57.3150       1.882266  \n",
       "1  281.2772      10.739870  \n",
       "2  194.6480       4.574571  \n",
       "3   23.6660       0.826904  \n",
       "4  253.9808       6.981330  "
      ]
     },
     "execution_count": 34,
     "metadata": {},
     "output_type": "execute_result"
    }
   ],
   "source": [
    "new_df.head()"
   ]
  },
  {
   "cell_type": "markdown",
   "id": "430975e0",
   "metadata": {},
   "source": [
    "### Distribution by Age category"
   ]
  },
  {
   "cell_type": "code",
   "execution_count": 35,
   "id": "7961bd5b",
   "metadata": {},
   "outputs": [
    {
     "data": {
      "image/png": "[encoded data removed]",
      "text/plain": [
       "<Figure size 1000x500 with 2 Axes>"
      ]
     },
     "metadata": {},
     "output_type": "display_data"
    }
   ],
   "source": [
    "new_df['age_category'] = pd.cut(new_df['Age'], [18,25,40,60], \n",
    "                               labels = ['Young_Adult', 'middle_Adult', 'Old_Adult'])\n",
    "sns.catplot(x = 'age_category', col = 'Company', data = new_df, kind = 'count',hue='Company',palette = ['#d965a4', '#ffc400']);"
   ]
  },
  {
   "cell_type": "markdown",
   "id": "1ae65d73",
   "metadata": {},
   "source": [
    "### Distribution of users by Gender"
   ]
  },
  {
   "cell_type": "code",
   "execution_count": 36,
   "id": "5a8cda4e",
   "metadata": {},
   "outputs": [
    {
     "data": {
      "image/png": "[encoded data removed]",
      "text/plain": [
       "<Figure size 640x480 with 1 Axes>"
      ]
     },
     "metadata": {},
     "output_type": "display_data"
    }
   ],
   "source": [
    "#checking unique\n",
    "sns.countplot(data = new_df, y = 'Gender',hue = 'Company',palette = palette)\n",
    "plt.title('Gender Distribution of Users')\n",
    "plt.show()"
   ]
  },
  {
   "cell_type": "markdown",
   "id": "c93fc42c",
   "metadata": {},
   "source": [
    "The proportion of male passengers is greater than that of female passengers, yet both companies have the same gender distribution among their passengers"
   ]
  },
  {
   "cell_type": "markdown",
   "id": "5db2ae13",
   "metadata": {},
   "source": [
    "### Distribution of users and non-users of cab services by Cities"
   ]
  },
  {
   "cell_type": "code",
   "execution_count": 37,
   "id": "168bb26b",
   "metadata": {},
   "outputs": [
    {
     "data": {
      "image/png": "[encoded data removed]",
      "text/plain": [
       "<Figure size 640x480 with 1 Axes>"
      ]
     },
     "metadata": {},
     "output_type": "display_data"
    }
   ],
   "source": [
    "City_data.sort_values(['Population', 'Users'])[['Users', 'Non_User','City']].plot(kind= 'bar',y = ['Users', 'Non_User'], x = 'City',stacked = True, title = \"Cab Passengers by City\")\n",
    "plt.ylabel(\"Population in Millions\")\n",
    "plt.xlabel(\"Cities\")\n",
    "plt.show()"
   ]
  },
  {
   "cell_type": "markdown",
   "id": "65e13a9c",
   "metadata": {},
   "source": [
    "New York City has the largest population among the cities where the two cab companies operate and it also has a high number of users for their services. Chicago and Los Angeles are also major cities with large populations and significant demand for cab services."
   ]
  },
  {
   "cell_type": "markdown",
   "id": "855578ce",
   "metadata": {},
   "source": [
    "### Distribution of number of trips by Cities"
   ]
  },
  {
   "cell_type": "code",
   "execution_count": 38,
   "id": "6f6bbad6",
   "metadata": {},
   "outputs": [
    {
     "data": {
      "text/html": [
       "<div>\n",
       "<style scoped>\n",
       "    .dataframe tbody tr th:only-of-type {\n",
       "        vertical-align: middle;\n",
       "    }\n",
       "\n",
       "    .dataframe tbody tr th {\n",
       "        vertical-align: top;\n",
       "    }\n",
       "\n",
       "    .dataframe thead th {\n",
       "        text-align: right;\n",
       "    }\n",
       "</style>\n",
       "<table border=\"1\" class=\"dataframe\">\n",
       "  <thead>\n",
       "    <tr style=\"text-align: right;\">\n",
       "      <th></th>\n",
       "      <th>City</th>\n",
       "      <th>Company</th>\n",
       "      <th>Year</th>\n",
       "      <th>Number of Trips</th>\n",
       "    </tr>\n",
       "  </thead>\n",
       "  <tbody>\n",
       "    <tr>\n",
       "      <th>0</th>\n",
       "      <td>Atlanta</td>\n",
       "      <td>Pink Cab</td>\n",
       "      <td>2016</td>\n",
       "      <td>524</td>\n",
       "    </tr>\n",
       "    <tr>\n",
       "      <th>1</th>\n",
       "      <td>Atlanta</td>\n",
       "      <td>Pink Cab</td>\n",
       "      <td>2017</td>\n",
       "      <td>632</td>\n",
       "    </tr>\n",
       "    <tr>\n",
       "      <th>2</th>\n",
       "      <td>Atlanta</td>\n",
       "      <td>Pink Cab</td>\n",
       "      <td>2018</td>\n",
       "      <td>606</td>\n",
       "    </tr>\n",
       "    <tr>\n",
       "      <th>3</th>\n",
       "      <td>Atlanta</td>\n",
       "      <td>Yellow Cab</td>\n",
       "      <td>2016</td>\n",
       "      <td>1713</td>\n",
       "    </tr>\n",
       "    <tr>\n",
       "      <th>4</th>\n",
       "      <td>Atlanta</td>\n",
       "      <td>Yellow Cab</td>\n",
       "      <td>2017</td>\n",
       "      <td>2079</td>\n",
       "    </tr>\n",
       "  </tbody>\n",
       "</table>\n",
       "</div>"
      ],
      "text/plain": [
       "       City     Company  Year  Number of Trips\n",
       "0  Atlanta     Pink Cab  2016              524\n",
       "1  Atlanta     Pink Cab  2017              632\n",
       "2  Atlanta     Pink Cab  2018              606\n",
       "3  Atlanta   Yellow Cab  2016             1713\n",
       "4  Atlanta   Yellow Cab  2017             2079"
      ]
     },
     "execution_count": 38,
     "metadata": {},
     "output_type": "execute_result"
    }
   ],
   "source": [
    "Dist_across_cities = new_df.groupby(['City','Company',\"Year\"]).size().reset_index().rename(columns ={0:'Number of Trips'})\n",
    "Dist_across_cities.head()\n"
   ]
  },
  {
   "cell_type": "code",
   "execution_count": 39,
   "id": "8b257d4b",
   "metadata": {
    "scrolled": true
   },
   "outputs": [
    {
     "data": {
      "image/png": "[encoded data removed]",
      "text/plain": [
       "<Figure size 1000x600 with 1 Axes>"
      ]
     },
     "metadata": {},
     "output_type": "display_data"
    }
   ],
   "source": [
    "plt.figure(figsize = (10,6))\n",
    "sns.barplot(data = Dist_across_cities, y = 'Number of Trips',x='Company',hue = 'Company',palette = palette, ci = False)\n",
    "plt.title(\"Trips across Cities\")\n",
    "plt.show()\n"
   ]
  },
  {
   "cell_type": "markdown",
   "id": "829dc261",
   "metadata": {},
   "source": [
    "On average the yellow cab has a larger customer base compared to the pink cab in most cities, while the pink cab only has a larger customer base in a few cities such as San Diego, Nashville, Sacramento and Pittsburgh."
   ]
  },
  {
   "cell_type": "markdown",
   "id": "3216a5b1",
   "metadata": {},
   "source": [
    "### Price Charge per km"
   ]
  },
  {
   "cell_type": "code",
   "execution_count": 96,
   "id": "25df8fb7",
   "metadata": {},
   "outputs": [
    {
     "data": {
      "image/png": "[encoded data removed]",
      "text/plain": [
       "<Figure size 640x480 with 1 Axes>"
      ]
     },
     "metadata": {},
     "output_type": "display_data"
    }
   ],
   "source": [
    "#Price_per_km\n",
    "Price_per_km_cities = new_df.groupby(['City','Company','Year'])['Price_per_km'].mean().reset_index()\n",
    "sns.barplot(data = Price_per_km_cities, y = 'Price_per_km',x='Company',palette = palette,ci = False)\n",
    "plt.show()"
   ]
  },
  {
   "cell_type": "markdown",
   "id": "abe7585b",
   "metadata": {},
   "source": [
    "Yellow cab charges higher rates than pink cab. The pink cab is estimated to have an average fare of around 13 dollars per km while the yellow cab is estimated to have an average fare of around 18 dollars per km. "
   ]
  },
  {
   "cell_type": "code",
   "execution_count": 93,
   "id": "361b29bd",
   "metadata": {},
   "outputs": [
    {
     "data": {
      "image/png": "[encoded data removed]",
      "text/plain": [
       "<Figure size 1000x600 with 1 Axes>"
      ]
     },
     "metadata": {},
     "output_type": "display_data"
    }
   ],
   "source": [
    "plt.figure(figsize = (10,6))\n",
    "Price_per_km_cities = new_df.groupby(['City','Company','Year'])['Price_per_km'].mean().reset_index()\n",
    "sns.barplot(data = Price_per_km_cities, y = 'Price_per_km',x='City',hue='Company',palette = palette,ci = False)\n",
    "plt.xticks(rotation = 45) \n",
    "plt.show()"
   ]
  },
  {
   "cell_type": "markdown",
   "id": "93a96745",
   "metadata": {},
   "source": [
    "it seems that across all cities, the yellow cab company charges more than the pink cab company, even in cities where the pink cab company has a larger customer base. "
   ]
  },
  {
   "cell_type": "markdown",
   "id": "54739816",
   "metadata": {},
   "source": [
    "### Cost incurr per km"
   ]
  },
  {
   "cell_type": "code",
   "execution_count": 101,
   "id": "759894e0",
   "metadata": {},
   "outputs": [
    {
     "data": {
      "image/png": "[encoded data removed]",
      "text/plain": [
       "<Figure size 1500x600 with 1 Axes>"
      ]
     },
     "metadata": {},
     "output_type": "display_data"
    },
    {
     "data": {
      "image/png": "[encoded data removed]",
      "text/plain": [
       "<Figure size 640x480 with 1 Axes>"
      ]
     },
     "metadata": {},
     "output_type": "display_data"
    }
   ],
   "source": [
    "plt.figure(figsize = (15,6))\n",
    "new_df['Cost_per_km'] = new_df['Cost of Trip']/new_df['KM Travelled']\n",
    "Cost_per_km_km_cities = new_df.groupby(['City','Company','Year'])['Cost of Trip'].mean().reset_index()\n",
    "sns.barplot(data = Cost_per_km_km_cities, y = 'Cost of Trip',x='City',hue = \"Company\",palette = palette,ci=None)\n",
    "plt.title('Cost incurr per km')\n",
    "plt.legend(bbox_to_anchor=(1.02, 1), loc='upper left', borderaxespad=0)\n",
    "plt.xticks(rotation = 45) \n",
    "plt.show()\n",
    "#Price_per_km\n",
    "sns.barplot(data = Cost_per_km_km_cities, y = 'Cost of Trip',x='Company',palette = palette,ci = False)\n",
    "plt.title('Cost incurr per km')\n",
    "plt.show()"
   ]
  },
  {
   "cell_type": "markdown",
   "id": "c6bce9ec",
   "metadata": {},
   "source": [
    "On average, the Yellow Cab company incurred higher costs than the Pink Cab company across all trips in the cities."
   ]
  },
  {
   "cell_type": "code",
   "execution_count": null,
   "id": "f53e5a7f",
   "metadata": {},
   "outputs": [],
   "source": []
  },
  {
   "cell_type": "markdown",
   "id": "6b75010c",
   "metadata": {},
   "source": [
    "### Profit per km "
   ]
  },
  {
   "cell_type": "code",
   "execution_count": 58,
   "id": "0e799086",
   "metadata": {},
   "outputs": [
    {
     "name": "stdout",
     "output_type": "stream",
     "text": [
      "       Company          City  Profit_per_km\n",
      "0     Pink Cab      Atlanta        2.418367\n",
      "1     Pink Cab       Austin        3.601619\n",
      "2     Pink Cab       Boston        2.234623\n",
      "3     Pink Cab      Chicago        1.508437\n",
      "4     Pink Cab       Dallas        0.825393\n",
      "5     Pink Cab       Denver        1.276010\n",
      "6     Pink Cab  Los Angeles        2.501389\n",
      "7     Pink Cab        Miami        3.601181\n",
      "8     Pink Cab    Nashville        1.521093\n",
      "9     Pink Cab     New York        4.790525\n",
      "10    Pink Cab       Orange        3.008943\n",
      "11    Pink Cab      Phoenix        1.894585\n",
      "12    Pink Cab   Pittsburgh        1.066107\n",
      "13    Pink Cab   Sacramento        1.815109\n",
      "14    Pink Cab    San Diego        2.638450\n",
      "15    Pink Cab      Seattle        1.825484\n",
      "16    Pink Cab      Silicon        3.898292\n",
      "17    Pink Cab       Tucson        3.267249\n",
      "18    Pink Cab   Washington        2.308069\n",
      "19  Yellow Cab      Atlanta        5.793907\n",
      "20  Yellow Cab       Austin        5.573738\n",
      "21  Yellow Cab       Boston        2.724566\n",
      "22  Yellow Cab      Chicago        2.862147\n",
      "23  Yellow Cab       Dallas        8.659813\n",
      "24  Yellow Cab       Denver        6.538332\n",
      "25  Yellow Cab  Los Angeles        5.143755\n",
      "26  Yellow Cab        Miami        5.876724\n",
      "27  Yellow Cab    Nashville        3.199816\n",
      "28  Yellow Cab     New York       13.680714\n",
      "29  Yellow Cab       Orange        6.439300\n",
      "30  Yellow Cab      Phoenix        5.825460\n",
      "31  Yellow Cab   Pittsburgh        4.610267\n",
      "32  Yellow Cab   Sacramento        2.608064\n",
      "33  Yellow Cab    San Diego        4.306747\n",
      "34  Yellow Cab      Seattle        4.133996\n",
      "35  Yellow Cab      Silicon        9.046897\n",
      "36  Yellow Cab       Tucson        3.156657\n",
      "37  Yellow Cab   Washington        3.633461\n"
     ]
    }
   ],
   "source": [
    "profit_km = new_df.groupby(['Company','City'])['Profit_per_km'].mean().reset_index()\n",
    "print(profit_km)"
   ]
  },
  {
   "cell_type": "code",
   "execution_count": 61,
   "id": "981b9e8a",
   "metadata": {},
   "outputs": [
    {
     "data": {
      "image/png": "[encoded data removed]",
      "text/plain": [
       "<Figure size 640x480 with 1 Axes>"
      ]
     },
     "metadata": {},
     "output_type": "display_data"
    }
   ],
   "source": [
    "\n",
    "sns.barplot(data = profit_km, y = 'Profit_per_km',x='Company',palette = palette, ci = False)\n",
    "plt.title(\"Profit_per_km\")\n",
    "plt.show()"
   ]
  },
  {
   "cell_type": "code",
   "execution_count": null,
   "id": "360ecab1",
   "metadata": {},
   "outputs": [],
   "source": []
  },
  {
   "cell_type": "code",
   "execution_count": 59,
   "id": "bd61cb57",
   "metadata": {},
   "outputs": [
    {
     "data": {
      "text/plain": [
       "<Figure size 1000x600 with 0 Axes>"
      ]
     },
     "metadata": {},
     "output_type": "display_data"
    },
    {
     "data": {
      "image/png": "[encoded data removed]",
      "text/plain": [
       "<Figure size 1000x600 with 1 Axes>"
      ]
     },
     "metadata": {},
     "output_type": "display_data"
    }
   ],
   "source": [
    "plt.figure(figsize = (10,6))\n",
    "sns.barplot(data = profit_km, y = 'Profit_per_km',x='City',hue = 'Company', palette = palette,ci = False)\n",
    "plt.xticks(rotation = 45) \n",
    "plt.title(\"Profit_per_km\")\n",
    "plt.show()"
   ]
  },
  {
   "cell_type": "markdown",
   "id": "e7b614be",
   "metadata": {},
   "source": [
    "On average, the profit per kilometer for Yellow Cab is higher than that of Pink Cab. Yellow Cab is estimated to make 7 dollars per kilometer while Pink Cab is estimated to make less than 3 dollars per kilometer. Additionally, Yellow Cab generally makes more profit across the cities in which both companies operate."
   ]
  },
  {
   "cell_type": "markdown",
   "id": "75e9f9fc",
   "metadata": {},
   "source": [
    "### loss Analysis"
   ]
  },
  {
   "cell_type": "code",
   "execution_count": 47,
   "id": "1d634085",
   "metadata": {},
   "outputs": [],
   "source": [
    "loss = new_df.query(\"Profit_per_km <= 0\")"
   ]
  },
  {
   "cell_type": "code",
   "execution_count": 48,
   "id": "a5a19de8",
   "metadata": {},
   "outputs": [
    {
     "data": {
      "text/html": [
       "<div>\n",
       "<style scoped>\n",
       "    .dataframe tbody tr th:only-of-type {\n",
       "        vertical-align: middle;\n",
       "    }\n",
       "\n",
       "    .dataframe tbody tr th {\n",
       "        vertical-align: top;\n",
       "    }\n",
       "\n",
       "    .dataframe thead th {\n",
       "        text-align: right;\n",
       "    }\n",
       "</style>\n",
       "<table border=\"1\" class=\"dataframe\">\n",
       "  <thead>\n",
       "    <tr style=\"text-align: right;\">\n",
       "      <th></th>\n",
       "      <th>Transaction ID</th>\n",
       "      <th>Date of Travel</th>\n",
       "      <th>Company</th>\n",
       "      <th>City</th>\n",
       "      <th>KM Travelled</th>\n",
       "      <th>Price Charged</th>\n",
       "      <th>Cost of Trip</th>\n",
       "      <th>Customer ID</th>\n",
       "      <th>Payment_Mode</th>\n",
       "      <th>Gender</th>\n",
       "      <th>Age</th>\n",
       "      <th>Income (USD/Month)</th>\n",
       "      <th>Year</th>\n",
       "      <th>Month</th>\n",
       "      <th>Day</th>\n",
       "      <th>Price_per_km</th>\n",
       "      <th>Cost_per_km</th>\n",
       "      <th>Profit</th>\n",
       "      <th>Profit_per_km</th>\n",
       "      <th>age_category</th>\n",
       "    </tr>\n",
       "  </thead>\n",
       "  <tbody>\n",
       "    <tr>\n",
       "      <th>26</th>\n",
       "      <td>10246065</td>\n",
       "      <td>2017-10-29</td>\n",
       "      <td>Yellow Cab</td>\n",
       "      <td>Austin</td>\n",
       "      <td>35.97</td>\n",
       "      <td>492.70</td>\n",
       "      <td>500.7024</td>\n",
       "      <td>33788</td>\n",
       "      <td>Cash</td>\n",
       "      <td>Male</td>\n",
       "      <td>23</td>\n",
       "      <td>23788</td>\n",
       "      <td>2017</td>\n",
       "      <td>10</td>\n",
       "      <td>Sunday</td>\n",
       "      <td>13.697526</td>\n",
       "      <td>13.92</td>\n",
       "      <td>-8.0024</td>\n",
       "      <td>-0.222474</td>\n",
       "      <td>Young_Adult</td>\n",
       "    </tr>\n",
       "    <tr>\n",
       "      <th>55</th>\n",
       "      <td>10033870</td>\n",
       "      <td>2016-05-18</td>\n",
       "      <td>Pink Cab</td>\n",
       "      <td>Boston</td>\n",
       "      <td>38.76</td>\n",
       "      <td>358.90</td>\n",
       "      <td>437.9880</td>\n",
       "      <td>58774</td>\n",
       "      <td>Card</td>\n",
       "      <td>Male</td>\n",
       "      <td>20</td>\n",
       "      <td>23602</td>\n",
       "      <td>2016</td>\n",
       "      <td>5</td>\n",
       "      <td>Wednesday</td>\n",
       "      <td>9.259546</td>\n",
       "      <td>11.30</td>\n",
       "      <td>-79.0880</td>\n",
       "      <td>-2.040454</td>\n",
       "      <td>Young_Adult</td>\n",
       "    </tr>\n",
       "    <tr>\n",
       "      <th>65</th>\n",
       "      <td>10020665</td>\n",
       "      <td>2016-03-31</td>\n",
       "      <td>Yellow Cab</td>\n",
       "      <td>Boston</td>\n",
       "      <td>31.64</td>\n",
       "      <td>407.07</td>\n",
       "      <td>432.8352</td>\n",
       "      <td>58627</td>\n",
       "      <td>Card</td>\n",
       "      <td>Male</td>\n",
       "      <td>28</td>\n",
       "      <td>27338</td>\n",
       "      <td>2016</td>\n",
       "      <td>3</td>\n",
       "      <td>Thursday</td>\n",
       "      <td>12.865676</td>\n",
       "      <td>13.68</td>\n",
       "      <td>-25.7652</td>\n",
       "      <td>-0.814324</td>\n",
       "      <td>middle_Adult</td>\n",
       "    </tr>\n",
       "    <tr>\n",
       "      <th>78</th>\n",
       "      <td>10362532</td>\n",
       "      <td>2018-08-16</td>\n",
       "      <td>Yellow Cab</td>\n",
       "      <td>Boston</td>\n",
       "      <td>13.09</td>\n",
       "      <td>162.15</td>\n",
       "      <td>168.0756</td>\n",
       "      <td>58627</td>\n",
       "      <td>Card</td>\n",
       "      <td>Male</td>\n",
       "      <td>28</td>\n",
       "      <td>27338</td>\n",
       "      <td>2018</td>\n",
       "      <td>8</td>\n",
       "      <td>Thursday</td>\n",
       "      <td>12.387319</td>\n",
       "      <td>12.84</td>\n",
       "      <td>-5.9256</td>\n",
       "      <td>-0.452681</td>\n",
       "      <td>middle_Adult</td>\n",
       "    </tr>\n",
       "    <tr>\n",
       "      <th>83</th>\n",
       "      <td>10065021</td>\n",
       "      <td>2016-08-23</td>\n",
       "      <td>Yellow Cab</td>\n",
       "      <td>Boston</td>\n",
       "      <td>14.70</td>\n",
       "      <td>194.14</td>\n",
       "      <td>204.6240</td>\n",
       "      <td>59007</td>\n",
       "      <td>Card</td>\n",
       "      <td>Male</td>\n",
       "      <td>63</td>\n",
       "      <td>6683</td>\n",
       "      <td>2016</td>\n",
       "      <td>8</td>\n",
       "      <td>Tuesday</td>\n",
       "      <td>13.206803</td>\n",
       "      <td>13.92</td>\n",
       "      <td>-10.4840</td>\n",
       "      <td>-0.713197</td>\n",
       "      <td>NaN</td>\n",
       "    </tr>\n",
       "    <tr>\n",
       "      <th>...</th>\n",
       "      <td>...</td>\n",
       "      <td>...</td>\n",
       "      <td>...</td>\n",
       "      <td>...</td>\n",
       "      <td>...</td>\n",
       "      <td>...</td>\n",
       "      <td>...</td>\n",
       "      <td>...</td>\n",
       "      <td>...</td>\n",
       "      <td>...</td>\n",
       "      <td>...</td>\n",
       "      <td>...</td>\n",
       "      <td>...</td>\n",
       "      <td>...</td>\n",
       "      <td>...</td>\n",
       "      <td>...</td>\n",
       "      <td>...</td>\n",
       "      <td>...</td>\n",
       "      <td>...</td>\n",
       "      <td>...</td>\n",
       "    </tr>\n",
       "    <tr>\n",
       "      <th>359164</th>\n",
       "      <td>10432110</td>\n",
       "      <td>2018-12-23</td>\n",
       "      <td>Yellow Cab</td>\n",
       "      <td>Sacramento</td>\n",
       "      <td>43.68</td>\n",
       "      <td>510.94</td>\n",
       "      <td>618.5088</td>\n",
       "      <td>46035</td>\n",
       "      <td>Cash</td>\n",
       "      <td>Male</td>\n",
       "      <td>27</td>\n",
       "      <td>18316</td>\n",
       "      <td>2018</td>\n",
       "      <td>12</td>\n",
       "      <td>Sunday</td>\n",
       "      <td>11.697344</td>\n",
       "      <td>14.16</td>\n",
       "      <td>-107.5688</td>\n",
       "      <td>-2.462656</td>\n",
       "      <td>middle_Adult</td>\n",
       "    </tr>\n",
       "    <tr>\n",
       "      <th>359165</th>\n",
       "      <td>10432113</td>\n",
       "      <td>2018-12-21</td>\n",
       "      <td>Yellow Cab</td>\n",
       "      <td>Sacramento</td>\n",
       "      <td>15.30</td>\n",
       "      <td>198.66</td>\n",
       "      <td>216.6480</td>\n",
       "      <td>47592</td>\n",
       "      <td>Cash</td>\n",
       "      <td>Male</td>\n",
       "      <td>25</td>\n",
       "      <td>2719</td>\n",
       "      <td>2018</td>\n",
       "      <td>12</td>\n",
       "      <td>Friday</td>\n",
       "      <td>12.984314</td>\n",
       "      <td>14.16</td>\n",
       "      <td>-17.9880</td>\n",
       "      <td>-1.175686</td>\n",
       "      <td>Young_Adult</td>\n",
       "    </tr>\n",
       "    <tr>\n",
       "      <th>359167</th>\n",
       "      <td>10432117</td>\n",
       "      <td>2018-12-22</td>\n",
       "      <td>Yellow Cab</td>\n",
       "      <td>Sacramento</td>\n",
       "      <td>38.42</td>\n",
       "      <td>445.29</td>\n",
       "      <td>539.4168</td>\n",
       "      <td>45997</td>\n",
       "      <td>Cash</td>\n",
       "      <td>Male</td>\n",
       "      <td>45</td>\n",
       "      <td>18280</td>\n",
       "      <td>2018</td>\n",
       "      <td>12</td>\n",
       "      <td>Saturday</td>\n",
       "      <td>11.590057</td>\n",
       "      <td>14.04</td>\n",
       "      <td>-94.1268</td>\n",
       "      <td>-2.449943</td>\n",
       "      <td>Old_Adult</td>\n",
       "    </tr>\n",
       "    <tr>\n",
       "      <th>359170</th>\n",
       "      <td>10432622</td>\n",
       "      <td>2018-12-17</td>\n",
       "      <td>Yellow Cab</td>\n",
       "      <td>Seattle</td>\n",
       "      <td>18.72</td>\n",
       "      <td>258.00</td>\n",
       "      <td>269.5680</td>\n",
       "      <td>36110</td>\n",
       "      <td>Card</td>\n",
       "      <td>Female</td>\n",
       "      <td>18</td>\n",
       "      <td>4674</td>\n",
       "      <td>2018</td>\n",
       "      <td>12</td>\n",
       "      <td>Monday</td>\n",
       "      <td>13.782051</td>\n",
       "      <td>14.40</td>\n",
       "      <td>-11.5680</td>\n",
       "      <td>-0.617949</td>\n",
       "      <td>NaN</td>\n",
       "    </tr>\n",
       "    <tr>\n",
       "      <th>359276</th>\n",
       "      <td>10435915</td>\n",
       "      <td>2018-12-31</td>\n",
       "      <td>Yellow Cab</td>\n",
       "      <td>Sacramento</td>\n",
       "      <td>27.14</td>\n",
       "      <td>374.95</td>\n",
       "      <td>377.7888</td>\n",
       "      <td>45644</td>\n",
       "      <td>Card</td>\n",
       "      <td>Male</td>\n",
       "      <td>28</td>\n",
       "      <td>23014</td>\n",
       "      <td>2018</td>\n",
       "      <td>12</td>\n",
       "      <td>Monday</td>\n",
       "      <td>13.815402</td>\n",
       "      <td>13.92</td>\n",
       "      <td>-2.8388</td>\n",
       "      <td>-0.104598</td>\n",
       "      <td>middle_Adult</td>\n",
       "    </tr>\n",
       "  </tbody>\n",
       "</table>\n",
       "<p>24823 rows × 20 columns</p>\n",
       "</div>"
      ],
      "text/plain": [
       "        Transaction ID Date of Travel     Company         City  KM Travelled  \\\n",
       "26            10246065     2017-10-29  Yellow Cab      Austin          35.97   \n",
       "55            10033870     2016-05-18    Pink Cab      Boston          38.76   \n",
       "65            10020665     2016-03-31  Yellow Cab      Boston          31.64   \n",
       "78            10362532     2018-08-16  Yellow Cab      Boston          13.09   \n",
       "83            10065021     2016-08-23  Yellow Cab      Boston          14.70   \n",
       "...                ...            ...         ...          ...           ...   \n",
       "359164        10432110     2018-12-23  Yellow Cab  Sacramento          43.68   \n",
       "359165        10432113     2018-12-21  Yellow Cab  Sacramento          15.30   \n",
       "359167        10432117     2018-12-22  Yellow Cab  Sacramento          38.42   \n",
       "359170        10432622     2018-12-17  Yellow Cab     Seattle          18.72   \n",
       "359276        10435915     2018-12-31  Yellow Cab  Sacramento          27.14   \n",
       "\n",
       "        Price Charged  Cost of Trip  Customer ID Payment_Mode  Gender  Age  \\\n",
       "26             492.70      500.7024        33788         Cash    Male   23   \n",
       "55             358.90      437.9880        58774         Card    Male   20   \n",
       "65             407.07      432.8352        58627         Card    Male   28   \n",
       "78             162.15      168.0756        58627         Card    Male   28   \n",
       "83             194.14      204.6240        59007         Card    Male   63   \n",
       "...               ...           ...          ...          ...     ...  ...   \n",
       "359164         510.94      618.5088        46035         Cash    Male   27   \n",
       "359165         198.66      216.6480        47592         Cash    Male   25   \n",
       "359167         445.29      539.4168        45997         Cash    Male   45   \n",
       "359170         258.00      269.5680        36110         Card  Female   18   \n",
       "359276         374.95      377.7888        45644         Card    Male   28   \n",
       "\n",
       "        Income (USD/Month)  Year  Month        Day  Price_per_km  Cost_per_km  \\\n",
       "26                   23788  2017     10     Sunday     13.697526        13.92   \n",
       "55                   23602  2016      5  Wednesday      9.259546        11.30   \n",
       "65                   27338  2016      3   Thursday     12.865676        13.68   \n",
       "78                   27338  2018      8   Thursday     12.387319        12.84   \n",
       "83                    6683  2016      8    Tuesday     13.206803        13.92   \n",
       "...                    ...   ...    ...        ...           ...          ...   \n",
       "359164               18316  2018     12     Sunday     11.697344        14.16   \n",
       "359165                2719  2018     12     Friday     12.984314        14.16   \n",
       "359167               18280  2018     12   Saturday     11.590057        14.04   \n",
       "359170                4674  2018     12     Monday     13.782051        14.40   \n",
       "359276               23014  2018     12     Monday     13.815402        13.92   \n",
       "\n",
       "          Profit  Profit_per_km  age_category  \n",
       "26       -8.0024      -0.222474   Young_Adult  \n",
       "55      -79.0880      -2.040454   Young_Adult  \n",
       "65      -25.7652      -0.814324  middle_Adult  \n",
       "78       -5.9256      -0.452681  middle_Adult  \n",
       "83      -10.4840      -0.713197           NaN  \n",
       "...          ...            ...           ...  \n",
       "359164 -107.5688      -2.462656  middle_Adult  \n",
       "359165  -17.9880      -1.175686   Young_Adult  \n",
       "359167  -94.1268      -2.449943     Old_Adult  \n",
       "359170  -11.5680      -0.617949           NaN  \n",
       "359276   -2.8388      -0.104598  middle_Adult  \n",
       "\n",
       "[24823 rows x 20 columns]"
      ]
     },
     "execution_count": 48,
     "metadata": {},
     "output_type": "execute_result"
    }
   ],
   "source": [
    "loss"
   ]
  },
  {
   "cell_type": "code",
   "execution_count": 50,
   "id": "d0c05174",
   "metadata": {},
   "outputs": [
    {
     "data": {
      "image/png": "[encoded data removed]",
      "text/plain": [
       "<Figure size 640x480 with 1 Axes>"
      ]
     },
     "metadata": {},
     "output_type": "display_data"
    }
   ],
   "source": [
    "loss_km_city =loss.groupby([\"Year\",'City','Company'])['Profit_per_km'].mean().reset_index()\n",
    "sns.barplot(data = loss_km_city, x = 'Profit_per_km',y='Company',hue = \"Company\", palette = palette,ci= False)\n",
    "plt.ylabel('loss_per_km')\n",
    "plt.show()\n"
   ]
  },
  {
   "cell_type": "markdown",
   "id": "43cef19e",
   "metadata": {},
   "source": [
    "On average, the Pink Cab company incurred higher losses per kilometer than the Yellow Cab company."
   ]
  },
  {
   "cell_type": "code",
   "execution_count": null,
   "id": "fa81787a",
   "metadata": {},
   "outputs": [],
   "source": []
  },
  {
   "cell_type": "markdown",
   "id": "09b8bbac",
   "metadata": {},
   "source": [
    "### Yearly seasonality of Cost of trip"
   ]
  },
  {
   "cell_type": "code",
   "execution_count": 94,
   "id": "dad2c374",
   "metadata": {},
   "outputs": [
    {
     "data": {
      "image/png": "[encoded data removed]",
      "text/plain": [
       "<Figure size 640x480 with 1 Axes>"
      ]
     },
     "metadata": {},
     "output_type": "display_data"
    }
   ],
   "source": [
    "#Average Cost per km Trend over ther years\n",
    "Yearly_Cost_per_km = new_df.groupby([\"Year\",'Company'])['Cost_per_km'].mean().reset_index()\n",
    "sns.pointplot(y = 'Cost_per_km', x = 'Year', data = Yearly_Cost_per_km , kind = 'bar', hue = 'Company', palette = palette)\n",
    "plt.title('Yearly seasonality of Cost per km')\n",
    "plt.show()"
   ]
  },
  {
   "cell_type": "markdown",
   "id": "a7f56426",
   "metadata": {},
   "source": [
    "The trend of cost incurred per kilometer has remained consistent over time, with Yellow Cab incurring more cost per kilometer than Pink Cab."
   ]
  },
  {
   "cell_type": "markdown",
   "id": "45147bf9",
   "metadata": {},
   "source": [
    "### Yearly seasonality of Profit"
   ]
  },
  {
   "cell_type": "code",
   "execution_count": 91,
   "id": "5653fef2",
   "metadata": {},
   "outputs": [
    {
     "name": "stdout",
     "output_type": "stream",
     "text": [
      "   Year     Company  Profit_per_km\n",
      "0  2016    Pink Cab       3.026813\n",
      "1  2016  Yellow Cab       7.489847\n",
      "2  2017    Pink Cab       2.962883\n",
      "3  2017  Yellow Cab       7.494612\n",
      "4  2018    Pink Cab       2.350447\n",
      "5  2018  Yellow Cab       6.364805\n"
     ]
    },
    {
     "data": {
      "image/png": "[encoded data removed]",
      "text/plain": [
       "<Figure size 624.25x500 with 1 Axes>"
      ]
     },
     "metadata": {},
     "output_type": "display_data"
    }
   ],
   "source": [
    "#Average_Profit_per km Trend over ther years\n",
    "Profit_per_km_yearly = new_df.groupby(['Year', 'Company'])['Profit_per_km'].mean().reset_index()\n",
    "print(Profit_per_km_yearly)\n",
    "sns.catplot(y='Profit_per_km', x = 'Year', data = Profit_per_km_yearly ,kind = 'point', hue = 'Company', palette = palette)\n",
    "plt.show()\n",
    "# plt.title('Yearly seasonality of Profit')\n",
    "# plt.show()\n"
   ]
  },
  {
   "cell_type": "markdown",
   "id": "53e524c7",
   "metadata": {},
   "source": [
    "The average profit per kilometer for the taxi cab companies was roughly the same for the years 2016 and 2017, but saw a significant decrease in 2018.\n"
   ]
  },
  {
   "cell_type": "markdown",
   "id": "16134824",
   "metadata": {},
   "source": [
    "### Yearly seasonality of loss"
   ]
  },
  {
   "cell_type": "code",
   "execution_count": 54,
   "id": "da868420",
   "metadata": {},
   "outputs": [
    {
     "data": {
      "image/png": "[encoded data removed]",
      "text/plain": [
       "<Figure size 640x480 with 1 Axes>"
      ]
     },
     "metadata": {},
     "output_type": "display_data"
    }
   ],
   "source": [
    "sns.pointplot(data = loss_km_city, x = 'Year',y='Profit_per_km',hue = \"Company\", palette = palette)\n",
    "plt.title('Yearly seasonality of Loss')\n",
    "plt.ylabel('Loss_per_km')\n",
    "plt.show()"
   ]
  },
  {
   "cell_type": "markdown",
   "id": "89586f53",
   "metadata": {},
   "source": [
    "### Yearly seasonality of number of trip"
   ]
  },
  {
   "cell_type": "code",
   "execution_count": 99,
   "id": "61d06db0",
   "metadata": {},
   "outputs": [
    {
     "data": {
      "image/png": "[encoded data removed]",
      "text/plain": [
       "<Figure size 624.25x500 with 1 Axes>"
      ]
     },
     "metadata": {},
     "output_type": "display_data"
    }
   ],
   "source": [
    "sns.catplot(y = 'Number of Trips', x = 'Year', data = Dist_across_cities ,kind = 'point', hue = 'Company', palette = palette)\n",
    "plt.title('Yearly seasonality of  number of trip')\n",
    "plt.show()"
   ]
  },
  {
   "cell_type": "markdown",
   "id": "c5e3dd86",
   "metadata": {},
   "source": [
    "The number of trips taken by both yellow and pink cab companies increased from 2016 to 2017, and then decreased slightly in 2018. Additionally, on average, yellow cab companies took more trips than pink companies."
   ]
  },
  {
   "cell_type": "code",
   "execution_count": null,
   "id": "18966c97",
   "metadata": {},
   "outputs": [],
   "source": []
  },
  {
   "cell_type": "markdown",
   "id": "892ff616",
   "metadata": {},
   "source": [
    "### Recommendations"
   ]
  },
  {
   "cell_type": "markdown",
   "id": "7139a4a0",
   "metadata": {},
   "source": [
    "Based on the analysis, it appears that Yellow cab is performing better than Pink cab in several key areas. Yellow cab has a higher customer reach in most cities, charges higher price per km, undertook more trips, has a higher average profit per KM, and lower loss per km compared to Pink cab. However, it is also noted that on average, Yellow cab incurs more cost per km than Pink cab.\n",
    "\n",
    "Overall, the pros of investing in Yellow cab outweigh the cons. Yellow cab's higher customer reach, higher average profit per KM and lower loss per KM would make it a more profitable investment opportunity than Pink cab. \n"
   ]
  },
  {
   "cell_type": "code",
   "execution_count": null,
   "id": "da178450",
   "metadata": {},
   "outputs": [],
   "source": []
  }
 ],
 "metadata": {
  "kernelspec": {
   "display_name": "Python 3 (ipykernel)",
   "language": "python",
   "name": "python3"
  },
  "language_info": {
   "codemirror_mode": {
    "name": "ipython",
    "version": 3
   },
   "file_extension": ".py",
   "mimetype": "text/x-python",
   "name": "python",
   "nbconvert_exporter": "python",
   "pygments_lexer": "ipython3",
   "version": "3.9.13"
  }
 },
 "nbformat": 4,
 "nbformat_minor": 5
}
